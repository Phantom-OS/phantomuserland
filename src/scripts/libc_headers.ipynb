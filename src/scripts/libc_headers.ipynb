{
 "cells": [
  {
   "cell_type": "markdown",
   "id": "neutral-hobby",
   "metadata": {},
   "source": [
    "# Moving default libc headers to separate folder"
   ]
  },
  {
   "cell_type": "code",
   "execution_count": 6,
   "id": "recorded-invalid",
   "metadata": {},
   "outputs": [],
   "source": [
    "default_c_headers = [\n",
    "  \"assert.h\",\n",
    "  \"complex.h\",\n",
    "  \"ctype.h\",\n",
    "  \"errno.h\",\n",
    "  \"fenv.h\",\n",
    "  \"float.h\",\n",
    "  \"inttypes.h\",\n",
    "  \"iso646.h\",\n",
    "  \"limits.h\",\n",
    "  \"locale.h\",\n",
    "  \"math.h\",\n",
    "  \"setjmp.h\",\n",
    "  \"signal.h\",\n",
    "  \"stdalign.h\",\n",
    "  \"stdarg.h\",\n",
    "  \"stdatomic.h\",\n",
    "  \"stdbool.h\",\n",
    "  \"stddef.h\",\n",
    "  \"stdint.h\",\n",
    "  \"stdio.h\",\n",
    "  \"stdlib.h\",\n",
    "  \"stdnoreturn.h\",\n",
    "  \"string.h\",\n",
    "  \"tgmath.h\",\n",
    "  \"threads.h\",\n",
    "  \"time.h\",\n",
    "  \"uchar.h\",\n",
    "  \"wchar.h\",\n",
    "  \"wctype.h\",\n",
    "]\n"
   ]
  },
  {
   "cell_type": "code",
   "execution_count": 9,
   "id": "occupied-summit",
   "metadata": {},
   "outputs": [],
   "source": [
    "# Check which of them are present\n",
    "\n",
    "from os import listdir\n",
    "\n",
    "include_dirs = [\"include\", \"include/amd64\"]\n",
    "\n",
    "files_list = []\n",
    "\n",
    "for inc_dir in include_dirs:\n",
    "    files_list.extend(listdir(inc_dir))"
   ]
  },
  {
   "cell_type": "code",
   "execution_count": 10,
   "id": "selected-foster",
   "metadata": {},
   "outputs": [
    {
     "data": {
      "text/plain": [
       "{'assert.h',\n",
       " 'ctype.h',\n",
       " 'errno.h',\n",
       " 'limits.h',\n",
       " 'math.h',\n",
       " 'setjmp.h',\n",
       " 'signal.h',\n",
       " 'stdarg.h',\n",
       " 'stddef.h',\n",
       " 'stdint.h',\n",
       " 'stdio.h',\n",
       " 'stdlib.h',\n",
       " 'string.h',\n",
       " 'threads.h',\n",
       " 'time.h',\n",
       " 'wchar.h'}"
      ]
     },
     "execution_count": 10,
     "metadata": {},
     "output_type": "execute_result"
    }
   ],
   "source": [
    "set([f for f in files_list if f.endswith(\".h\")]).intersection(set(default_c_headers))"
   ]
  },
  {
   "cell_type": "code",
   "execution_count": 12,
   "id": "cooked-franchise",
   "metadata": {},
   "outputs": [
    {
     "data": {
      "text/plain": [
       "{'complex.h',\n",
       " 'fenv.h',\n",
       " 'float.h',\n",
       " 'inttypes.h',\n",
       " 'iso646.h',\n",
       " 'locale.h',\n",
       " 'stdalign.h',\n",
       " 'stdatomic.h',\n",
       " 'stdbool.h',\n",
       " 'stdnoreturn.h',\n",
       " 'tgmath.h',\n",
       " 'uchar.h',\n",
       " 'wctype.h'}"
      ]
     },
     "execution_count": 12,
     "metadata": {},
     "output_type": "execute_result"
    }
   ],
   "source": [
    "# Probably, these are missing\n",
    "\n",
    "set(set(default_c_headers)).difference([f for f in files_list if f.endswith(\".h\")])"
   ]
  }
 ],
 "metadata": {
  "kernelspec": {
   "display_name": "Python 3",
   "language": "python",
   "name": "python3"
  },
  "language_info": {
   "codemirror_mode": {
    "name": "ipython",
    "version": 3
   },
   "file_extension": ".py",
   "mimetype": "text/x-python",
   "name": "python",
   "nbconvert_exporter": "python",
   "pygments_lexer": "ipython3",
   "version": "3.8.5"
  }
 },
 "nbformat": 4,
 "nbformat_minor": 5
}
