{
 "cells": [
  {
   "cell_type": "code",
   "execution_count": 1,
   "id": "complicated-condition",
   "metadata": {},
   "outputs": [],
   "source": [
    "from cflow.cflow_parser import *"
   ]
  },
  {
   "cell_type": "code",
   "execution_count": 2,
   "id": "tutorial-contrary",
   "metadata": {},
   "outputs": [
    {
     "name": "stdout",
     "output_type": "stream",
     "text": [
      "Warning: duplicating files: /home/anton/Sandbox/PhantomOS/test/phantomuserland/phantom/libc/strnstrn.c\n",
      "Warning: duplicating files: /home/anton/Sandbox/PhantomOS/test/phantomuserland/oldtree/kernel/phantom/i386/apic.c\n",
      "Warning: duplicating files: /home/anton/Sandbox/PhantomOS/test/phantomuserland/oldtree/kernel/phantom/i386/descriptors.c\n",
      "Warning: duplicating files: /home/anton/Sandbox/PhantomOS/test/phantomuserland/oldtree/kernel/phantom/i386/idt.c\n",
      "Warning: duplicating files: /home/anton/Sandbox/PhantomOS/test/phantomuserland/oldtree/kernel/phantom/i386/interrupts.c\n",
      "Warning: duplicating files: /home/anton/Sandbox/PhantomOS/test/phantomuserland/oldtree/kernel/phantom/i386/ioapic.c\n",
      "Warning: duplicating files: /home/anton/Sandbox/PhantomOS/test/phantomuserland/oldtree/kernel/phantom/i386/kolibri.c\n",
      "Warning: duplicating files: /home/anton/Sandbox/PhantomOS/test/phantomuserland/oldtree/kernel/phantom/i386/mp_machdep.c\n",
      "Warning: duplicating files: /home/anton/Sandbox/PhantomOS/test/phantomuserland/oldtree/kernel/phantom/i386/paging.c\n",
      "Warning: duplicating files: /home/anton/Sandbox/PhantomOS/test/phantomuserland/oldtree/kernel/phantom/i386/smp-imps.c\n",
      "Warning: duplicating files: /home/anton/Sandbox/PhantomOS/test/phantomuserland/oldtree/kernel/phantom/i386/vesa.c\n",
      "Warning: duplicating files: /home/anton/Sandbox/PhantomOS/test/phantomuserland/oldtree/kernel/phantom/i386/vm86.c\n"
     ]
    }
   ],
   "source": [
    "project_cflow_results = parse_from_build_log(\"build_kernel_log\")"
   ]
  },
  {
   "cell_type": "code",
   "execution_count": 3,
   "id": "ecological-infrared",
   "metadata": {},
   "outputs": [
    {
     "name": "stdout",
     "output_type": "stream",
     "text": [
      "WARNING : duplicating def of dir_read()\n",
      "          old: FRESULT dir_read (DIR *dj) at /home/anton/Sandbox/PhantomOS/test/phantomuserland/oldtree/kernel/phantom/ff.c:980\n",
      "          new: size_t dir_read (struct uufile *f, void *dest, size_t bytes) at /home/anton/Sandbox/PhantomOS/test/phantomuserland/oldtree/kernel/phantom/unix/dir.c:270\n"
     ]
    }
   ],
   "source": [
    "# Building kernel index\n",
    "\n",
    "kernel_files = [f for f in project_cflow_results.keys() if \"kernel\" in f]\n",
    "\n",
    "# Avoiding duplicating definitions\n",
    "excluded_files = [\n",
    "    \"/home/anton/Sandbox/PhantomOS/test/phantomuserland/oldtree/kernel/phantom/floppy.c\",\n",
    "    \"/home/anton/Sandbox/PhantomOS/test/phantomuserland/oldtree/kernel/phantom/unix/phantom.c\",\n",
    "    \"/home/anton/Sandbox/PhantomOS/test/phantomuserland/include/kernel/init.h\", # unix hal > this header\n",
    "]\n",
    "\n",
    "kernel_index = Index()\n",
    "\n",
    "for f in kernel_files:\n",
    "    if f in excluded_files:\n",
    "        continue\n",
    "        \n",
    "    t = project_cflow_results[f]\n",
    "    parse_cflow_output(kernel_index, t.decode(\"utf-8\"))\n"
   ]
  },
  {
   "cell_type": "code",
   "execution_count": 4,
   "id": "furnished-examination",
   "metadata": {},
   "outputs": [
    {
     "name": "stdout",
     "output_type": "stream",
     "text": [
      "WARNING : duplicating def of hal_cpu_reset_real()\n",
      "          old: void hal_cpu_reset_real (void) at /home/anton/Sandbox/PhantomOS/test/phantomuserland/include/kernel/init.h:128\n",
      "          new: void hal_cpu_reset_real () at /home/anton/Sandbox/PhantomOS/test/phantomuserland/phantom/vm/unix_hal.c:408\n"
     ]
    }
   ],
   "source": [
    "# Building VM index\n",
    "\n",
    "vm_files = [f for f in project_cflow_results.keys() if \"/vm/\" in f]\n",
    "\n",
    "vm_index = Index()\n",
    "\n",
    "for f in vm_files:\n",
    "    if f in excluded_files:\n",
    "        continue\n",
    "        \n",
    "    t = project_cflow_results[f]\n",
    "    parse_cflow_output(vm_index, t.decode(\"utf-8\"))"
   ]
  },
  {
   "cell_type": "code",
   "execution_count": 5,
   "id": "vocal-webmaster",
   "metadata": {},
   "outputs": [
    {
     "data": {
      "text/plain": [
       "['hal_alloc_phys_page()',\n",
       " 'hal_alloc_vaddress()',\n",
       " 'alloc_ldt_selector()',\n",
       " 'phantom_phys_alloc_init()']"
      ]
     },
     "execution_count": 5,
     "metadata": {},
     "output_type": "execute_result"
    }
   ],
   "source": [
    "kernel_index.get_callers(\"phantom_phys_alloc_page()\")"
   ]
  },
  {
   "cell_type": "code",
   "execution_count": 8,
   "id": "abandoned-words",
   "metadata": {},
   "outputs": [
    {
     "data": {
      "text/plain": [
       "{2: {'create_interface_worker()',\n",
       "  'hal_init()',\n",
       "  'pvm_alloc_clear_mem()',\n",
       "  'pvm_create_binary_object()',\n",
       "  'pvm_create_code_object()',\n",
       "  'pvm_create_general_stack_object()',\n",
       "  'pvm_create_page_object()',\n",
       "  'pvm_create_string_object_binary()',\n",
       "  'pvm_create_string_object_binary_cat()',\n",
       "  'pvm_object_create_fixed()',\n",
       "  'runclass()'},\n",
       " 3: {'getwc_16()',\n",
       "  'hal_cond_wait()',\n",
       "  'hdir_add()',\n",
       "  'main()',\n",
       "  'phantom_setenv()',\n",
       "  'pvm_code_get_string()',\n",
       "  'pvm_convert_json_to_objects_ext()',\n",
       "  'pvm_create_call_frame_object()',\n",
       "  'pvm_create_class_object()',\n",
       "  'pvm_create_double_object()',\n",
       "  'pvm_create_estack_object()',\n",
       "  'pvm_create_float_object()',\n",
       "  'pvm_create_int_object()',\n",
       "  'pvm_create_interface_object()',\n",
       "  'pvm_create_istack_object()',\n",
       "  'pvm_create_long_object()',\n",
       "  'pvm_create_object()',\n",
       "  'pvm_create_ostack_object()',\n",
       "  'pvm_create_string_object()',\n",
       "  'pvm_create_syscall_code()',\n",
       "  'pvm_internal_init_tty()',\n",
       "  'pvm_internal_init_window()',\n",
       "  'pvm_load_class_from_memory()',\n",
       "  'pvm_load_method()',\n",
       "  'pvm_root_init()',\n",
       "  'si_bootstrap_19_create_binary()',\n",
       "  'si_string_10_concat()',\n",
       "  'si_string_3_clone()',\n",
       "  'si_string_8_substring()',\n",
       "  'verify_p()'},\n",
       " 1: {'pvm_alloc_init()',\n",
       "  'pvm_create_root_objects()',\n",
       "  'pvm_object_create_dynamic()'},\n",
       " 0: {'pvm_object_alloc()'}}"
      ]
     },
     "execution_count": 8,
     "metadata": {},
     "output_type": "execute_result"
    }
   ],
   "source": [
    "get_neighbours(vm_index.reverse_relations, \"pvm_object_alloc()\", 3)"
   ]
  },
  {
   "cell_type": "code",
   "execution_count": null,
   "id": "instrumental-fountain",
   "metadata": {},
   "outputs": [],
   "source": []
  }
 ],
 "metadata": {
  "kernelspec": {
   "display_name": "Python 3",
   "language": "python",
   "name": "python3"
  },
  "language_info": {
   "codemirror_mode": {
    "name": "ipython",
    "version": 3
   },
   "file_extension": ".py",
   "mimetype": "text/x-python",
   "name": "python",
   "nbconvert_exporter": "python",
   "pygments_lexer": "ipython3",
   "version": "3.8.5"
  }
 },
 "nbformat": 4,
 "nbformat_minor": 5
}
