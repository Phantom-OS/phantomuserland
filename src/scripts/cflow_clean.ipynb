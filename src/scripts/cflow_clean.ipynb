{
 "cells": [
  {
   "cell_type": "code",
   "execution_count": 75,
   "id": "complicated-condition",
   "metadata": {},
   "outputs": [],
   "source": [
    "from cflow.cflow_parser import *"
   ]
  },
  {
   "cell_type": "code",
   "execution_count": 8,
   "id": "tutorial-contrary",
   "metadata": {},
   "outputs": [
    {
     "name": "stdout",
     "output_type": "stream",
     "text": [
      "Warning: duplicating files: /home/anton/Sandbox/PhantomOS/test/phantomuserland/phantom/libc/strnstrn.c\n",
      "Warning: duplicating files: /home/anton/Sandbox/PhantomOS/test/phantomuserland/oldtree/kernel/phantom/i386/apic.c\n",
      "Warning: duplicating files: /home/anton/Sandbox/PhantomOS/test/phantomuserland/oldtree/kernel/phantom/i386/descriptors.c\n",
      "Warning: duplicating files: /home/anton/Sandbox/PhantomOS/test/phantomuserland/oldtree/kernel/phantom/i386/idt.c\n",
      "Warning: duplicating files: /home/anton/Sandbox/PhantomOS/test/phantomuserland/oldtree/kernel/phantom/i386/interrupts.c\n",
      "Warning: duplicating files: /home/anton/Sandbox/PhantomOS/test/phantomuserland/oldtree/kernel/phantom/i386/ioapic.c\n",
      "Warning: duplicating files: /home/anton/Sandbox/PhantomOS/test/phantomuserland/oldtree/kernel/phantom/i386/kolibri.c\n",
      "Warning: duplicating files: /home/anton/Sandbox/PhantomOS/test/phantomuserland/oldtree/kernel/phantom/i386/mp_machdep.c\n",
      "Warning: duplicating files: /home/anton/Sandbox/PhantomOS/test/phantomuserland/oldtree/kernel/phantom/i386/paging.c\n",
      "Warning: duplicating files: /home/anton/Sandbox/PhantomOS/test/phantomuserland/oldtree/kernel/phantom/i386/smp-imps.c\n",
      "Warning: duplicating files: /home/anton/Sandbox/PhantomOS/test/phantomuserland/oldtree/kernel/phantom/i386/vesa.c\n",
      "Warning: duplicating files: /home/anton/Sandbox/PhantomOS/test/phantomuserland/oldtree/kernel/phantom/i386/vm86.c\n"
     ]
    }
   ],
   "source": [
    "project_cflow_results = parse_from_build_log(\"build_kernel_log\")"
   ]
  },
  {
   "cell_type": "code",
   "execution_count": 9,
   "id": "ecological-infrared",
   "metadata": {},
   "outputs": [
    {
     "name": "stdout",
     "output_type": "stream",
     "text": [
      "WARNING : duplicating def of dir_read()\n",
      "          old: FRESULT dir_read (DIR *dj) at /home/anton/Sandbox/PhantomOS/test/phantomuserland/oldtree/kernel/phantom/ff.c:980\n",
      "          new: size_t dir_read (struct uufile *f, void *dest, size_t bytes) at /home/anton/Sandbox/PhantomOS/test/phantomuserland/oldtree/kernel/phantom/unix/dir.c:270\n"
     ]
    }
   ],
   "source": [
    "# Building kernel index\n",
    "\n",
    "kernel_files = [f for f in project_cflow_results.keys() if \"kernel\" in f]\n",
    "\n",
    "# Avoiding duplicating definitions\n",
    "excluded_files = [\n",
    "    \"/home/anton/Sandbox/PhantomOS/test/phantomuserland/oldtree/kernel/phantom/floppy.c\",\n",
    "    \"/home/anton/Sandbox/PhantomOS/test/phantomuserland/oldtree/kernel/phantom/unix/phantom.c\",\n",
    "    \"/home/anton/Sandbox/PhantomOS/test/phantomuserland/include/kernel/init.h\", # unix hal > this header\n",
    "]\n",
    "\n",
    "kernel_index = Index()\n",
    "\n",
    "for f in kernel_files:\n",
    "    if f in excluded_files:\n",
    "        continue\n",
    "        \n",
    "    t = project_cflow_results[f]\n",
    "    parse_cflow_output(kernel_index, t.decode(\"utf-8\"))\n"
   ]
  },
  {
   "cell_type": "code",
   "execution_count": 11,
   "id": "furnished-examination",
   "metadata": {},
   "outputs": [
    {
     "name": "stdout",
     "output_type": "stream",
     "text": [
      "WARNING : duplicating def of hal_cpu_reset_real()\n",
      "          old: void hal_cpu_reset_real (void) at /home/anton/Sandbox/PhantomOS/test/phantomuserland/include/kernel/init.h:128\n",
      "          new: void hal_cpu_reset_real () at /home/anton/Sandbox/PhantomOS/test/phantomuserland/phantom/vm/unix_hal.c:408\n"
     ]
    }
   ],
   "source": [
    "# Building VM index\n",
    "\n",
    "vm_files = [f for f in project_cflow_results.keys() if \"/vm/\" in f]\n",
    "\n",
    "vm_index = Index()\n",
    "\n",
    "for f in vm_files:\n",
    "    if f in excluded_files:\n",
    "        continue\n",
    "        \n",
    "    t = project_cflow_results[f]\n",
    "    parse_cflow_output(vm_index, t.decode(\"utf-8\"))"
   ]
  },
  {
   "cell_type": "code",
   "execution_count": 12,
   "id": "vocal-webmaster",
   "metadata": {},
   "outputs": [
    {
     "data": {
      "text/plain": [
       "['phantom_phys_alloc_init()',\n",
       " 'hal_alloc_vaddress()',\n",
       " 'hal_alloc_phys_page()',\n",
       " 'alloc_ldt_selector()']"
      ]
     },
     "execution_count": 12,
     "metadata": {},
     "output_type": "execute_result"
    }
   ],
   "source": [
    "kernel_index.get_callers(\"phantom_phys_alloc_page()\")"
   ]
  },
  {
   "cell_type": "code",
   "execution_count": 13,
   "id": "manufactured-union",
   "metadata": {},
   "outputs": [
    {
     "data": {
      "text/plain": [
       "['driver_virtio_net_write()',\n",
       " 'page_fault_read()',\n",
       " 'provide_buffers()',\n",
       " 'page_fault_snap_aid()',\n",
       " 'page_fault_write()']"
      ]
     },
     "execution_count": 13,
     "metadata": {},
     "output_type": "execute_result"
    }
   ],
   "source": [
    "kernel_index.get_callers(\"hal_alloc_phys_page()\")"
   ]
  },
  {
   "cell_type": "code",
   "execution_count": 15,
   "id": "vital-albania",
   "metadata": {},
   "outputs": [],
   "source": [
    "# Let's try to parse a new init routine and get its leaf nodes inside kernel index\n",
    "# XXX : This file is from main repo, not from test\n",
    "\n",
    "init_routines_new_cmd = generate_cflow_command(\"/home/anton/Sandbox/PhantomOS/phantomuserland/phantom/isomem/main.c\" , 'gcc -c -o main.o -W -Wall -Wno-unused-parameter -Wno-sign-compare -m64 -O0 -g -MD  -I/home/anton/Sandbox/PhantomOS/phantomuserland/phantom/isomem -I/home/anton/Sandbox/PhantomOS/phantomuserland/include/genode_libc/libc -I/home/anton/Sandbox/PhantomOS/phantomuserland/include/genode_libc/libc -I/home/anton/Sandbox/PhantomOS/phantomuserland/include/genode_libc/spec/x86_64/libc -I/home/anton/Sandbox/PhantomOS/phantomuserland/include/genode_libc/spec/x86_64/libc -I/home/anton/Sandbox/PhantomOS/phantomuserland/include -I/home/anton/Sandbox/PhantomOS/phantomuserland/include/genode-amd64 -I/home/anton/Sandbox/PhantomOS/phantomuserland/include -I/home/anton/Sandbox/PhantomOS/phantomuserland/include/genode-amd64 -nostdinc -std=gnu89 -DKERNEL -DARCH_genode-amd64=1 -DBOARD_amd64-pc=1 -DBOARD=amd64-pc -include /home/anton/Sandbox/PhantomOS/phantomuserland/include/kernel/config.h -include /home/anton/Sandbox/PhantomOS/phantomuserland/include/genode-amd64/arch/arch-config.h -include /home/anton/Sandbox/PhantomOS/phantomuserland/include/genode-amd64/arch/board-amd64-pc-config.h  -fno-stack-protector -DPHANTOM_GENODE main.c')\n",
    "init_routines_index = Index()\n",
    "parse_cflow_output(init_routines_index, run_cflow(init_routines_new_cmd).decode(\"utf-8\"))"
   ]
  },
  {
   "cell_type": "code",
   "execution_count": 19,
   "id": "clear-natural",
   "metadata": {},
   "outputs": [
    {
     "data": {
      "text/plain": [
       "['activate_all_threads()',\n",
       " 'amap_init()',\n",
       " 'arch_threads_init()',\n",
       " 'board_init_kernel_timer()',\n",
       " 'dpc_init()',\n",
       " 'driver_genode_disk_init()',\n",
       " 'driver_genode_disk_probe()',\n",
       " 'exit()',\n",
       " 'hal_cpu_reset_real()',\n",
       " 'hal_init()',\n",
       " 'hal_init_physmem_alloc()',\n",
       " 'hal_init_physmem_alloc_thread()',\n",
       " 'hal_page_control()',\n",
       " 'hal_sleep_msec()',\n",
       " 'hal_sti()',\n",
       " 'heap_init_mutex()',\n",
       " 'load_classes_module()',\n",
       " 'panic()',\n",
       " 'partition_pager_init()',\n",
       " 'phantom_init_part_pool()',\n",
       " 'phantom_paging_init()',\n",
       " 'phantom_process_boot_options()',\n",
       " 'phantom_shutdown()',\n",
       " 'phantom_snap_threads_interlock_init()',\n",
       " 'phantom_timed_call_init()',\n",
       " 'printf()',\n",
       " 'pvm_alloc_threaded_init()',\n",
       " 'pvm_root_init()',\n",
       " 'run_init_functions()',\n",
       " 'run_test()',\n",
       " 'select_phantom_partition()',\n",
       " 'snprintf()',\n",
       " 'strcmp()',\n",
       " 'strncpy()',\n",
       " 'svn_version()',\n",
       " 'vm_enable_regular_snaps()',\n",
       " 'vm_map_init()']"
      ]
     },
     "execution_count": 19,
     "metadata": {},
     "output_type": "execute_result"
    }
   ],
   "source": [
    "# Let's get leaf nodes\n",
    "\n",
    "main_subgraph = init_routines_index.get_subgraph([\"main()\"], lambda x: False, [])\n",
    "main_leafs = [key for key, nodes in main_subgraph.items() if len(nodes) == 0]\n",
    "\n",
    "sorted(main_leafs)"
   ]
  },
  {
   "cell_type": "code",
   "execution_count": 23,
   "id": "published-omaha",
   "metadata": {},
   "outputs": [
    {
     "data": {
      "text/plain": [
       "{'driver_genode_disk_init()', 'driver_genode_disk_probe()'}"
      ]
     },
     "execution_count": 23,
     "metadata": {},
     "output_type": "execute_result"
    }
   ],
   "source": [
    "# Check that there is no unknown nodes except new ones\n",
    "\n",
    "set(main_leafs) - set(kernel_index.store.keys())"
   ]
  },
  {
   "cell_type": "code",
   "execution_count": 25,
   "id": "adjustable-honey",
   "metadata": {},
   "outputs": [
    {
     "data": {
      "text/plain": [
       "['GET_CPU_ID()',\n",
       " 'MD5_Final()',\n",
       " 'MD5_Init()',\n",
       " 'MD5_Update()',\n",
       " 'XTeaCryptStr()',\n",
       " 'XTeaDecryptStr()',\n",
       " '__builtin_constant_p()',\n",
       " '__builtin_popcount()',\n",
       " '__builtin_va_end()',\n",
       " '__builtin_va_start()',\n",
       " '__inet_itoa()',\n",
       " '__inet_ntoa()',\n",
       " '__sync_add_and_fetch()',\n",
       " '__volatile()',\n",
       " '__volatile__()',\n",
       " '_empty()',\n",
       " '_ff()',\n",
       " '_ff_fail()',\n",
       " 'acpi_powerdown()',\n",
       " 'acpi_reboot()',\n",
       " 'activate_all_threads()',\n",
       " 'add_to_queue()',\n",
       " 'amap_check()',\n",
       " 'amap_check_modify()',\n",
       " 'amap_destroy()',\n",
       " 'amap_init()',\n",
       " 'amap_iterate_flags()',\n",
       " 'amap_modify()',\n",
       " 'arch_get_fault_address()',\n",
       " 'arch_get_frame_pointer()',\n",
       " 'arch_get_rtc_delta()',\n",
       " 'arch_get_tick_rate()',\n",
       " 'arch_get_time_delta()',\n",
       " 'arch_is_object_land_access_enabled()',\n",
       " 'atoi()',\n",
       " 'atol()',\n",
       " 'atomic_add()',\n",
       " 'board_init_kernel_timer()',\n",
       " 'bulk_seek_f()',\n",
       " 'bzero()',\n",
       " 'calloc()',\n",
       " 'checkLeaveMutex()',\n",
       " 'checkRange()',\n",
       " 'count()',\n",
       " 'create_pool()',\n",
       " 'dbg_add_command()',\n",
       " 'decode_base64()',\n",
       " 'destroy_pool()',\n",
       " 'disk_page_cache_modified()',\n",
       " 'disk_page_io_seek()',\n",
       " 'do_test_hdir()',\n",
       " 'dpc_panic()',\n",
       " 'drv_video_window_create()',\n",
       " 'drv_video_window_free()',\n",
       " 'encode_base64()',\n",
       " 'ev_q_put_global()',\n",
       " 'exit()',\n",
       " 'fhandler_f()',\n",
       " 'ftlbentry()',\n",
       " 'get_current_thread()',\n",
       " 'get_current_tid()',\n",
       " 'hal_alloc_softirq()',\n",
       " 'hal_cond_broadcast()',\n",
       " 'hal_cond_init()',\n",
       " 'hal_cond_signal()',\n",
       " 'hal_cond_wait()',\n",
       " 'hal_cpu_reset_real()',\n",
       " 'hal_enable_softirq()',\n",
       " 'hal_exit_kernel_thread()',\n",
       " 'hal_init_object_vmem()',\n",
       " 'hal_is_sti()',\n",
       " 'hal_mem_pagesize()',\n",
       " 'hal_mutex_destroy()',\n",
       " 'hal_mutex_init()',\n",
       " 'hal_mutex_is_locked()',\n",
       " 'hal_mutex_lock()',\n",
       " 'hal_mutex_unlock()',\n",
       " 'hal_queue_init()',\n",
       " 'hal_save_cli()',\n",
       " 'hal_sem_acquire()',\n",
       " 'hal_sem_acquire_etc()',\n",
       " 'hal_sem_destroy()',\n",
       " 'hal_sem_init()',\n",
       " 'hal_sem_release()',\n",
       " 'hal_sleep_msec()',\n",
       " 'hal_spin_init()',\n",
       " 'hal_spin_lock_cli()',\n",
       " 'hal_spin_unlock_sti()',\n",
       " 'hal_start_kernel_thread()',\n",
       " 'hal_start_kernel_thread_arg()',\n",
       " 'hal_start_thread()',\n",
       " 'hal_sti()',\n",
       " 'hash_insert()',\n",
       " 'hash_lookup()',\n",
       " 'hash_next()',\n",
       " 'hash_remove()',\n",
       " 'hash_rewind()',\n",
       " 'hexdump()',\n",
       " 'initialize_cbuf()',\n",
       " 'is_on_q()',\n",
       " 'is_on_reclaim_q()',\n",
       " 'longjmp_machdep()',\n",
       " 'lprintf()',\n",
       " 'memcmp()',\n",
       " 'memcpy()',\n",
       " 'memnotchar()',\n",
       " 'memset()',\n",
       " 'need_pageout()',\n",
       " 'nfree()',\n",
       " 'ones_sum16()',\n",
       " 'page_touch_history()',\n",
       " 'page_touch_history_arg()',\n",
       " 'pager_long_fsck()',\n",
       " 'pager_superblock_ptr()',\n",
       " 'pahantom_free_phys_mem_kb()',\n",
       " 'pahantom_total_phys_mem_kb()',\n",
       " 'panic()',\n",
       " 'phantom_calc_sb_checksum()',\n",
       " 'phantom_check_disk_save_virtmem()',\n",
       " 'phantom_create_thread()',\n",
       " 'phantom_finish_all_threads()',\n",
       " 'phantom_fsck_super()',\n",
       " 'phantom_is_a_real_kernel()',\n",
       " 'phantom_map_page()',\n",
       " 'phantom_multiboot_find()',\n",
       " 'phantom_paging_init()',\n",
       " 'phantom_phys_free_count()',\n",
       " 'phantom_port_close()',\n",
       " 'phantom_port_count()',\n",
       " 'phantom_port_create()',\n",
       " 'phantom_port_delete()',\n",
       " 'phantom_port_find()',\n",
       " 'phantom_port_read()',\n",
       " 'phantom_port_read_etc()',\n",
       " 'phantom_port_write()',\n",
       " 'phantom_port_write_etc()',\n",
       " 'phantom_scheduler_soft_interrupt()',\n",
       " 'phantom_symtab_getname()',\n",
       " 'phantom_unmap_page()',\n",
       " 'pool_create_el()',\n",
       " 'pool_destroy_el()',\n",
       " 'pool_el_refcount()',\n",
       " 'pool_foreach()',\n",
       " 'pool_get_el()',\n",
       " 'pool_get_free()',\n",
       " 'pool_get_used()',\n",
       " 'pool_release_el()',\n",
       " 'printf()',\n",
       " 'pvm_alloc_init()',\n",
       " 'pvm_alloc_threaded_init()',\n",
       " 'pvm_bulk_init()',\n",
       " 'pvm_object_is_allocated_assert()',\n",
       " 'pvm_object_is_allocated_light()',\n",
       " 'pvm_root_init()',\n",
       " 'queue_enqueue()',\n",
       " 'random()',\n",
       " 'rect_includes()',\n",
       " 'rect_intersects()',\n",
       " 'rect_sub()',\n",
       " 'ref_dec_p()',\n",
       " 'ref_inc_p()',\n",
       " 'remove_from_queue()',\n",
       " 'run_init_functions()',\n",
       " 'run_stop_functions()',\n",
       " 'scr_get_xsize()',\n",
       " 'scr_get_ysize()',\n",
       " 'scr_zbuf_reset_square()',\n",
       " 'setjmp_machdep()',\n",
       " 'sha1()',\n",
       " 'snprintf()',\n",
       " 'sscanf()',\n",
       " 'stack_dump_from()',\n",
       " 'strcat()',\n",
       " 'strchr()',\n",
       " 'strcmp()',\n",
       " 'strcpy()',\n",
       " 'strdup()',\n",
       " 'strerror_r()',\n",
       " 'strlcat()',\n",
       " 'strlcpy()',\n",
       " 'strlen()',\n",
       " 'strncmp()',\n",
       " 'strncpy()',\n",
       " 'superblocks_are_equal()',\n",
       " 'svn_version()',\n",
       " 'syslog()',\n",
       " 't_current_get_priority()',\n",
       " 't_current_set_name()',\n",
       " 't_current_set_priority()',\n",
       " 't_kill_thread()',\n",
       " 't_migrate_to_boot_CPU()',\n",
       " 't_set_snapper_flag()',\n",
       " 't_smp_enable()',\n",
       " 'tcp_socket_compare_func()',\n",
       " 'tcp_socket_hash_func()',\n",
       " 'test_fail()',\n",
       " 'thread_block()',\n",
       " 'trap_ignore()',\n",
       " 'trap_name()',\n",
       " 'udp_connect()',\n",
       " 'udp_endpoint_compare_func()',\n",
       " 'udp_endpoint_hash_func()',\n",
       " 'udp_init_queue()',\n",
       " 'udp_listen()',\n",
       " 'udp_queue_pop()',\n",
       " 'udp_queue_push()',\n",
       " 'umax()',\n",
       " 'usys_close()',\n",
       " 'usys_open()',\n",
       " 'usys_read()',\n",
       " 'usys_stat()',\n",
       " 'uu_break_path()',\n",
       " 'uu_make_absname()',\n",
       " 'validate_cbuf()',\n",
       " 'visit_all()',\n",
       " 'vm_map_finish()',\n",
       " 'vm_map_page_mark_unused()',\n",
       " 'vm_verify_vm()',\n",
       " 'vprintf()',\n",
       " 'w_draw_pixel()',\n",
       " 'w_move()',\n",
       " 'w_set_title()',\n",
       " 'w_to_top()',\n",
       " 'wtty_destroy()',\n",
       " 'wtty_dump()',\n",
       " 'wtty_init()',\n",
       " 'wtty_read()',\n",
       " 'wtty_write()']"
      ]
     },
     "execution_count": 25,
     "metadata": {},
     "output_type": "execute_result"
    }
   ],
   "source": [
    "# Use those leaf nodes as starting nodes for subgraph in kernel index\n",
    "\n",
    "kernel_main_subgraph = kernel_index.get_subgraph(set(main_leafs).intersection(set(kernel_index.store.keys())), lambda x : False, [])\n",
    "kernel_main_leaves = [key for key, nodes in kernel_main_subgraph.items() if len(nodes) == 0]\n",
    "\n",
    "sorted(kernel_main_leaves)"
   ]
  },
  {
   "cell_type": "code",
   "execution_count": 26,
   "id": "hourly-beads",
   "metadata": {},
   "outputs": [
    {
     "data": {
      "text/plain": [
       "['get_kolibri_state()', 'do_test_wtty()', 'es1370_interrupt()']"
      ]
     },
     "execution_count": 26,
     "metadata": {},
     "output_type": "execute_result"
    }
   ],
   "source": [
    "# Looks kind of OK. But how did we end up being in udp and wtty calls as well as usys_open/read/stat/close?\n",
    "\n",
    "kernel_index.get_callers(\"wtty_init()\")"
   ]
  },
  {
   "cell_type": "code",
   "execution_count": 27,
   "id": "powered-advantage",
   "metadata": {},
   "outputs": [
    {
     "data": {
      "text/plain": [
       "['run_test()']"
      ]
     },
     "execution_count": 27,
     "metadata": {},
     "output_type": "execute_result"
    }
   ],
   "source": [
    "kernel_index.get_callers(\"do_test_wtty()\")"
   ]
  },
  {
   "cell_type": "code",
   "execution_count": 29,
   "id": "focal-current",
   "metadata": {},
   "outputs": [
    {
     "data": {
      "text/plain": [
       "['do_test_ports()',\n",
       " 'do_test_rectangles()',\n",
       " 'do_test_crypt()',\n",
       " 'panic()',\n",
       " 'do_test_udp_send()',\n",
       " 'do_test_amap()',\n",
       " 'get_current_tid()',\n",
       " 'do_test_sem()',\n",
       " 'do_test_dpc()',\n",
       " 'report()',\n",
       " 'svn_version()',\n",
       " 'do_test_physmem()',\n",
       " 'do_test_physalloc_gen()',\n",
       " 'do_test_hdir()',\n",
       " 'setjmp_machdep()',\n",
       " 'do_test_cbuf()',\n",
       " 'do_test_resolver()',\n",
       " 'do_test_many_threads()',\n",
       " 'fhandler_f()',\n",
       " 'do_test_pool()',\n",
       " 'do_test_misc()',\n",
       " 'do_test_absname()',\n",
       " 'do_test_malloc()',\n",
       " 'do_test_threads()',\n",
       " 'do_test_wtty()',\n",
       " 'do_test_tftp()',\n",
       " 'strcmp()',\n",
       " 'do_test_udp_syslog()',\n",
       " 'printf()',\n",
       " 'do_test_video()',\n",
       " 'do_test_timed_call()',\n",
       " 'do_test_tcp_connect()']"
      ]
     },
     "execution_count": 29,
     "metadata": {},
     "output_type": "execute_result"
    }
   ],
   "source": [
    "kernel_index.get_callees(\"run_test()\")"
   ]
  },
  {
   "cell_type": "code",
   "execution_count": 35,
   "id": "governing-income",
   "metadata": {},
   "outputs": [
    {
     "data": {
      "text/plain": [
       "['GET_CPU_ID()',\n",
       " '__builtin_constant_p()',\n",
       " '__builtin_popcount()',\n",
       " '__builtin_va_end()',\n",
       " '__builtin_va_start()',\n",
       " '__volatile()',\n",
       " '__volatile__()',\n",
       " 'acpi_powerdown()',\n",
       " 'acpi_reboot()',\n",
       " 'activate_all_threads()',\n",
       " 'add_to_queue()',\n",
       " 'amap_destroy()',\n",
       " 'amap_init()',\n",
       " 'amap_iterate_flags()',\n",
       " 'amap_modify()',\n",
       " 'arch_get_fault_address()',\n",
       " 'arch_get_frame_pointer()',\n",
       " 'arch_get_rtc_delta()',\n",
       " 'arch_get_tick_rate()',\n",
       " 'arch_get_time_delta()',\n",
       " 'arch_is_object_land_access_enabled()',\n",
       " 'atol()',\n",
       " 'atomic_add()',\n",
       " 'board_init_kernel_timer()',\n",
       " 'bulk_seek_f()',\n",
       " 'bzero()',\n",
       " 'calloc()',\n",
       " 'checkRange()',\n",
       " 'create_pool()',\n",
       " 'dbg_add_command()',\n",
       " 'disk_page_cache_modified()',\n",
       " 'disk_page_io_seek()',\n",
       " 'exit()',\n",
       " 'ftlbentry()',\n",
       " 'get_current_thread()',\n",
       " 'hal_cond_broadcast()',\n",
       " 'hal_cond_init()',\n",
       " 'hal_cond_signal()',\n",
       " 'hal_cond_wait()',\n",
       " 'hal_cpu_reset_real()',\n",
       " 'hal_enable_softirq()',\n",
       " 'hal_exit_kernel_thread()',\n",
       " 'hal_init_object_vmem()',\n",
       " 'hal_is_sti()',\n",
       " 'hal_mem_pagesize()',\n",
       " 'hal_mutex_init()',\n",
       " 'hal_mutex_is_locked()',\n",
       " 'hal_mutex_lock()',\n",
       " 'hal_mutex_unlock()',\n",
       " 'hal_save_cli()',\n",
       " 'hal_sem_init()',\n",
       " 'hal_sleep_msec()',\n",
       " 'hal_spin_init()',\n",
       " 'hal_spin_lock_cli()',\n",
       " 'hal_spin_unlock_sti()',\n",
       " 'hal_start_kernel_thread()',\n",
       " 'hal_start_kernel_thread_arg()',\n",
       " 'hal_sti()',\n",
       " 'hexdump()',\n",
       " 'is_on_reclaim_q()',\n",
       " 'lprintf()',\n",
       " 'memcpy()',\n",
       " 'memset()',\n",
       " 'need_pageout()',\n",
       " 'page_touch_history()',\n",
       " 'page_touch_history_arg()',\n",
       " 'pager_long_fsck()',\n",
       " 'pager_superblock_ptr()',\n",
       " 'pahantom_free_phys_mem_kb()',\n",
       " 'pahantom_total_phys_mem_kb()',\n",
       " 'panic()',\n",
       " 'phantom_calc_sb_checksum()',\n",
       " 'phantom_check_disk_save_virtmem()',\n",
       " 'phantom_finish_all_threads()',\n",
       " 'phantom_fsck_super()',\n",
       " 'phantom_is_a_real_kernel()',\n",
       " 'phantom_map_page()',\n",
       " 'phantom_multiboot_find()',\n",
       " 'phantom_paging_init()',\n",
       " 'phantom_phys_free_count()',\n",
       " 'phantom_scheduler_soft_interrupt()',\n",
       " 'phantom_symtab_getname()',\n",
       " 'phantom_unmap_page()',\n",
       " 'pool_release_el()',\n",
       " 'printf()',\n",
       " 'pvm_alloc_init()',\n",
       " 'pvm_alloc_threaded_init()',\n",
       " 'pvm_bulk_init()',\n",
       " 'pvm_object_is_allocated_assert()',\n",
       " 'pvm_object_is_allocated_light()',\n",
       " 'pvm_root_init()',\n",
       " 'remove_from_queue()',\n",
       " 'run_init_functions()',\n",
       " 'run_stop_functions()',\n",
       " 'run_test()',\n",
       " 'snprintf()',\n",
       " 'stack_dump_from()',\n",
       " 'strcmp()',\n",
       " 'strcpy()',\n",
       " 'strdup()',\n",
       " 'strlcat()',\n",
       " 'strlcpy()',\n",
       " 'strlen()',\n",
       " 'strncpy()',\n",
       " 'superblocks_are_equal()',\n",
       " 'svn_version()',\n",
       " 'syslog()',\n",
       " 't_current_get_priority()',\n",
       " 't_current_set_name()',\n",
       " 't_current_set_priority()',\n",
       " 't_kill_thread()',\n",
       " 't_migrate_to_boot_CPU()',\n",
       " 't_set_snapper_flag()',\n",
       " 't_smp_enable()',\n",
       " 'thread_block()',\n",
       " 'trap_ignore()',\n",
       " 'trap_name()',\n",
       " 'umax()',\n",
       " 'usys_close()',\n",
       " 'usys_open()',\n",
       " 'usys_read()',\n",
       " 'usys_stat()',\n",
       " 'visit_all()',\n",
       " 'vm_map_finish()',\n",
       " 'vm_map_page_mark_unused()',\n",
       " 'vm_verify_vm()',\n",
       " 'vprintf()',\n",
       " 'w_draw_pixel()']"
      ]
     },
     "execution_count": 35,
     "metadata": {},
     "output_type": "execute_result"
    }
   ],
   "source": [
    "# Ok, that is reasonable :) \n",
    "# Let's exclude \"run_test()\" and see what results we will get\n",
    "\n",
    "kernel_main_subgraph = kernel_index.get_subgraph(set(main_leafs).intersection(set(kernel_index.store.keys())), lambda x : x in [\"run_test()\"], [\"run_test()\"])\n",
    "kernel_main_leaves = [key for key, nodes in kernel_main_subgraph.items() if len(nodes) == 0]\n",
    "\n",
    "sorted(kernel_main_leaves)"
   ]
  },
  {
   "cell_type": "code",
   "execution_count": 44,
   "id": "sharp-growth",
   "metadata": {},
   "outputs": [
    {
     "data": {
      "text/plain": [
       "{0: {'usys_open()'},\n",
       " 1: {'k_open()'},\n",
       " 4: {'load_classes_module()'},\n",
       " 3: {'load_code()'},\n",
       " 2: {'k_load_file()'}}"
      ]
     },
     "execution_count": 44,
     "metadata": {},
     "output_type": "execute_result"
    }
   ],
   "source": [
    "# Worked well. Let's check also usys_* calls\n",
    "\n",
    "# Reverting graph\n",
    "kernel_main_subgraph_r = {}\n",
    "for k, nodes in kernel_main_subgraph.items():\n",
    "    for n in nodes:\n",
    "        if not n in kernel_main_subgraph_r.keys():\n",
    "            kernel_main_subgraph_r[n] = set()\n",
    "        kernel_main_subgraph_r[n].add(k)\n",
    "\n",
    "get_neighbours(kernel_main_subgraph_r, \"usys_open()\", 4)"
   ]
  },
  {
   "cell_type": "code",
   "execution_count": 49,
   "id": "functional-hello",
   "metadata": {},
   "outputs": [
    {
     "data": {
      "text/plain": [
       "364"
      ]
     },
     "execution_count": 49,
     "metadata": {},
     "output_type": "execute_result"
    }
   ],
   "source": [
    "# Ok. Let's keep those functions\n",
    "# Building list of used files\n",
    "\n",
    "kernel_main_subgraph_nodes = set()\n",
    "\n",
    "for k, nodes in kernel_main_subgraph.items():\n",
    "    kernel_main_subgraph_nodes.add(k)\n",
    "    kernel_main_subgraph_nodes.update(nodes)\n",
    "\n",
    "len(kernel_main_subgraph_nodes)"
   ]
  },
  {
   "cell_type": "code",
   "execution_count": 55,
   "id": "applied-letters",
   "metadata": {},
   "outputs": [
    {
     "data": {
      "text/plain": [
       "{'/home/anton/Sandbox/PhantomOS/test/phantomuserland/include/hal.h',\n",
       " '/home/anton/Sandbox/PhantomOS/test/phantomuserland/include/ia32/pio.h',\n",
       " '/home/anton/Sandbox/PhantomOS/test/phantomuserland/include/ia32/proc_reg.h',\n",
       " '/home/anton/Sandbox/PhantomOS/test/phantomuserland/include/kernel/init.h',\n",
       " '/home/anton/Sandbox/PhantomOS/test/phantomuserland/include/kernel/smp.h',\n",
       " '/home/anton/Sandbox/PhantomOS/test/phantomuserland/include/pager_io_req.h',\n",
       " '/home/anton/Sandbox/PhantomOS/test/phantomuserland/include/sys/libkern.h',\n",
       " '/home/anton/Sandbox/PhantomOS/test/phantomuserland/include/sys/syslog.h',\n",
       " '/home/anton/Sandbox/PhantomOS/test/phantomuserland/include/threads.h',\n",
       " '/home/anton/Sandbox/PhantomOS/test/phantomuserland/oldtree/kernel/phantom/boot_cmd_line.c',\n",
       " '/home/anton/Sandbox/PhantomOS/test/phantomuserland/oldtree/kernel/phantom/disk.c',\n",
       " '/home/anton/Sandbox/PhantomOS/test/phantomuserland/oldtree/kernel/phantom/disk_pool.c',\n",
       " '/home/anton/Sandbox/PhantomOS/test/phantomuserland/oldtree/kernel/phantom/dpc.c',\n",
       " '/home/anton/Sandbox/PhantomOS/test/phantomuserland/oldtree/kernel/phantom/driver_pci_intel_etc.c',\n",
       " '/home/anton/Sandbox/PhantomOS/test/phantomuserland/oldtree/kernel/phantom/fs_map.c',\n",
       " '/home/anton/Sandbox/PhantomOS/test/phantomuserland/oldtree/kernel/phantom/fsck.c',\n",
       " '/home/anton/Sandbox/PhantomOS/test/phantomuserland/oldtree/kernel/phantom/hal.c',\n",
       " '/home/anton/Sandbox/PhantomOS/test/phantomuserland/oldtree/kernel/phantom/hal_physmem.c',\n",
       " '/home/anton/Sandbox/PhantomOS/test/phantomuserland/oldtree/kernel/phantom/heap.c',\n",
       " '/home/anton/Sandbox/PhantomOS/test/phantomuserland/oldtree/kernel/phantom/ia32/arch_init.c',\n",
       " '/home/anton/Sandbox/PhantomOS/test/phantomuserland/oldtree/kernel/phantom/ia32/paging.c',\n",
       " '/home/anton/Sandbox/PhantomOS/test/phantomuserland/oldtree/kernel/phantom/ia32/spinlock.c',\n",
       " '/home/anton/Sandbox/PhantomOS/test/phantomuserland/oldtree/kernel/phantom/ia32/traps.c',\n",
       " '/home/anton/Sandbox/PhantomOS/test/phantomuserland/oldtree/kernel/phantom/ide_io.c',\n",
       " '/home/anton/Sandbox/PhantomOS/test/phantomuserland/oldtree/kernel/phantom/intrdisp.c',\n",
       " '/home/anton/Sandbox/PhantomOS/test/phantomuserland/oldtree/kernel/phantom/net_timer.c',\n",
       " '/home/anton/Sandbox/PhantomOS/test/phantomuserland/oldtree/kernel/phantom/pagelist.h',\n",
       " '/home/anton/Sandbox/PhantomOS/test/phantomuserland/oldtree/kernel/phantom/pager.c',\n",
       " '/home/anton/Sandbox/PhantomOS/test/phantomuserland/oldtree/kernel/phantom/physalloc.c',\n",
       " '/home/anton/Sandbox/PhantomOS/test/phantomuserland/oldtree/kernel/phantom/snap_sync.c',\n",
       " '/home/anton/Sandbox/PhantomOS/test/phantomuserland/oldtree/kernel/phantom/test_switch.c',\n",
       " '/home/anton/Sandbox/PhantomOS/test/phantomuserland/oldtree/kernel/phantom/time.c',\n",
       " '/home/anton/Sandbox/PhantomOS/test/phantomuserland/oldtree/kernel/phantom/timedcall.c',\n",
       " '/home/anton/Sandbox/PhantomOS/test/phantomuserland/oldtree/kernel/phantom/user_trap.c',\n",
       " '/home/anton/Sandbox/PhantomOS/test/phantomuserland/oldtree/kernel/phantom/vm_load.c',\n",
       " '/home/anton/Sandbox/PhantomOS/test/phantomuserland/oldtree/kernel/phantom/vm_map.c'}"
      ]
     },
     "execution_count": 55,
     "metadata": {},
     "output_type": "execute_result"
    }
   ],
   "source": [
    "kernel_main_subgraph_files = set()\n",
    "\n",
    "for node in kernel_main_subgraph_nodes:\n",
    "    if kernel_index.store[node].location:\n",
    "        kernel_main_subgraph_files.add(kernel_index.store[node].location.split(\":\")[0])  \n",
    "\n",
    "kernel_main_subgraph_files"
   ]
  },
  {
   "cell_type": "code",
   "execution_count": 56,
   "id": "uniform-temperature",
   "metadata": {},
   "outputs": [],
   "source": [
    "vm_files = ['/home/anton/Sandbox/PhantomOS/test/phantomuserland/include/hal.h',\n",
    "             '/home/anton/Sandbox/PhantomOS/test/phantomuserland/include/threads.h',\n",
    "             '/home/anton/Sandbox/PhantomOS/test/phantomuserland/include/pager_io_req.h',\n",
    "             '/home/anton/Sandbox/PhantomOS/test/phantomuserland/oldtree/kernel/phantom/snap_sync.c',\n",
    "             '/home/anton/Sandbox/PhantomOS/test/phantomuserland/include/kernel/smp.h',\n",
    "             '/home/anton/Sandbox/PhantomOS/test/phantomuserland/oldtree/kernel/phantom/pagelist.h',\n",
    "             '/home/anton/Sandbox/PhantomOS/test/phantomuserland/oldtree/kernel/phantom/fsck.c',\n",
    "             '/home/anton/Sandbox/PhantomOS/test/phantomuserland/oldtree/kernel/phantom/pager.c',\n",
    "             '/home/anton/Sandbox/PhantomOS/test/phantomuserland/oldtree/kernel/phantom/disk.c',\n",
    "             '/home/anton/Sandbox/PhantomOS/test/phantomuserland/oldtree/kernel/phantom/user_trap.c',\n",
    "             '/home/anton/Sandbox/PhantomOS/test/phantomuserland/oldtree/kernel/phantom/hal.c',\n",
    "             '/home/anton/Sandbox/PhantomOS/test/phantomuserland/oldtree/kernel/phantom/vm_connect.c',\n",
    "             '/home/anton/Sandbox/PhantomOS/test/phantomuserland/oldtree/kernel/phantom/vm_load.c',\n",
    "             '/home/anton/Sandbox/PhantomOS/test/phantomuserland/oldtree/kernel/phantom/physalloc.c',\n",
    "             '/home/anton/Sandbox/PhantomOS/test/phantomuserland/oldtree/kernel/phantom/hal_physmem.c',\n",
    "             '/home/anton/Sandbox/PhantomOS/test/phantomuserland/oldtree/kernel/phantom/vm_map.c']"
   ]
  },
  {
   "cell_type": "code",
   "execution_count": 57,
   "id": "white-duplicate",
   "metadata": {},
   "outputs": [
    {
     "data": {
      "text/plain": [
       "{'/home/anton/Sandbox/PhantomOS/test/phantomuserland/include/hal.h',\n",
       " '/home/anton/Sandbox/PhantomOS/test/phantomuserland/include/kernel/smp.h',\n",
       " '/home/anton/Sandbox/PhantomOS/test/phantomuserland/include/pager_io_req.h',\n",
       " '/home/anton/Sandbox/PhantomOS/test/phantomuserland/include/threads.h',\n",
       " '/home/anton/Sandbox/PhantomOS/test/phantomuserland/oldtree/kernel/phantom/disk.c',\n",
       " '/home/anton/Sandbox/PhantomOS/test/phantomuserland/oldtree/kernel/phantom/fsck.c',\n",
       " '/home/anton/Sandbox/PhantomOS/test/phantomuserland/oldtree/kernel/phantom/hal.c',\n",
       " '/home/anton/Sandbox/PhantomOS/test/phantomuserland/oldtree/kernel/phantom/hal_physmem.c',\n",
       " '/home/anton/Sandbox/PhantomOS/test/phantomuserland/oldtree/kernel/phantom/pagelist.h',\n",
       " '/home/anton/Sandbox/PhantomOS/test/phantomuserland/oldtree/kernel/phantom/pager.c',\n",
       " '/home/anton/Sandbox/PhantomOS/test/phantomuserland/oldtree/kernel/phantom/physalloc.c',\n",
       " '/home/anton/Sandbox/PhantomOS/test/phantomuserland/oldtree/kernel/phantom/snap_sync.c',\n",
       " '/home/anton/Sandbox/PhantomOS/test/phantomuserland/oldtree/kernel/phantom/user_trap.c',\n",
       " '/home/anton/Sandbox/PhantomOS/test/phantomuserland/oldtree/kernel/phantom/vm_load.c',\n",
       " '/home/anton/Sandbox/PhantomOS/test/phantomuserland/oldtree/kernel/phantom/vm_map.c'}"
      ]
     },
     "execution_count": 57,
     "metadata": {},
     "output_type": "execute_result"
    }
   ],
   "source": [
    "set(kernel_main_subgraph_files).intersection(set(vm_files))"
   ]
  },
  {
   "cell_type": "code",
   "execution_count": 58,
   "id": "interested-federation",
   "metadata": {},
   "outputs": [
    {
     "data": {
      "text/plain": [
       "15"
      ]
     },
     "execution_count": 58,
     "metadata": {},
     "output_type": "execute_result"
    }
   ],
   "source": [
    "len(set(kernel_main_subgraph_files).intersection(set(vm_files)))"
   ]
  },
  {
   "cell_type": "code",
   "execution_count": 59,
   "id": "bronze-transparency",
   "metadata": {},
   "outputs": [
    {
     "data": {
      "text/plain": [
       "16"
      ]
     },
     "execution_count": 59,
     "metadata": {},
     "output_type": "execute_result"
    }
   ],
   "source": [
    "len(vm_files)"
   ]
  },
  {
   "cell_type": "code",
   "execution_count": 60,
   "id": "unknown-hawaiian",
   "metadata": {},
   "outputs": [
    {
     "data": {
      "text/plain": [
       "{'/home/anton/Sandbox/PhantomOS/test/phantomuserland/oldtree/kernel/phantom/vm_connect.c'}"
      ]
     },
     "execution_count": 60,
     "metadata": {},
     "output_type": "execute_result"
    }
   ],
   "source": [
    "set(vm_files) - set(kernel_main_subgraph_files)"
   ]
  },
  {
   "cell_type": "code",
   "execution_count": 61,
   "id": "accessible-barbados",
   "metadata": {},
   "outputs": [
    {
     "data": {
      "text/plain": [
       "{'/home/anton/Sandbox/PhantomOS/test/phantomuserland/include/ia32/pio.h',\n",
       " '/home/anton/Sandbox/PhantomOS/test/phantomuserland/include/ia32/proc_reg.h',\n",
       " '/home/anton/Sandbox/PhantomOS/test/phantomuserland/include/kernel/init.h',\n",
       " '/home/anton/Sandbox/PhantomOS/test/phantomuserland/include/sys/libkern.h',\n",
       " '/home/anton/Sandbox/PhantomOS/test/phantomuserland/include/sys/syslog.h',\n",
       " '/home/anton/Sandbox/PhantomOS/test/phantomuserland/oldtree/kernel/phantom/boot_cmd_line.c',\n",
       " '/home/anton/Sandbox/PhantomOS/test/phantomuserland/oldtree/kernel/phantom/disk_pool.c',\n",
       " '/home/anton/Sandbox/PhantomOS/test/phantomuserland/oldtree/kernel/phantom/dpc.c',\n",
       " '/home/anton/Sandbox/PhantomOS/test/phantomuserland/oldtree/kernel/phantom/driver_pci_intel_etc.c',\n",
       " '/home/anton/Sandbox/PhantomOS/test/phantomuserland/oldtree/kernel/phantom/fs_map.c',\n",
       " '/home/anton/Sandbox/PhantomOS/test/phantomuserland/oldtree/kernel/phantom/heap.c',\n",
       " '/home/anton/Sandbox/PhantomOS/test/phantomuserland/oldtree/kernel/phantom/ia32/arch_init.c',\n",
       " '/home/anton/Sandbox/PhantomOS/test/phantomuserland/oldtree/kernel/phantom/ia32/paging.c',\n",
       " '/home/anton/Sandbox/PhantomOS/test/phantomuserland/oldtree/kernel/phantom/ia32/spinlock.c',\n",
       " '/home/anton/Sandbox/PhantomOS/test/phantomuserland/oldtree/kernel/phantom/ia32/traps.c',\n",
       " '/home/anton/Sandbox/PhantomOS/test/phantomuserland/oldtree/kernel/phantom/ide_io.c',\n",
       " '/home/anton/Sandbox/PhantomOS/test/phantomuserland/oldtree/kernel/phantom/intrdisp.c',\n",
       " '/home/anton/Sandbox/PhantomOS/test/phantomuserland/oldtree/kernel/phantom/net_timer.c',\n",
       " '/home/anton/Sandbox/PhantomOS/test/phantomuserland/oldtree/kernel/phantom/test_switch.c',\n",
       " '/home/anton/Sandbox/PhantomOS/test/phantomuserland/oldtree/kernel/phantom/time.c',\n",
       " '/home/anton/Sandbox/PhantomOS/test/phantomuserland/oldtree/kernel/phantom/timedcall.c'}"
      ]
     },
     "execution_count": 61,
     "metadata": {},
     "output_type": "execute_result"
    }
   ],
   "source": [
    "set(kernel_main_subgraph_files) - set(vm_files)"
   ]
  },
  {
   "cell_type": "code",
   "execution_count": 63,
   "id": "elegant-republic",
   "metadata": {},
   "outputs": [
    {
     "name": "stdout",
     "output_type": "stream",
     "text": [
      "--- __outbc()\n",
      "['get_fb_seg()', 'read_vga_register()', 'parallels_video_start()', 'cirrus_dump_cursol_palette()', 'ne_ei()', 'ne_reset()', 'ne_probe()', 'sub_writeBusMstrStatus()', 'isa_write8()', 'int_handler()', 'write_vga_register()', 'sub_writeBusMstrCmd()', 'sregs()', 'cirrus_unlock()', 'rtl8139_stop()', 'pio_outbyte()', 'virtio_reset()', 'cirrus_load_cursol_palette()', 'eth_pio_read()', 'eth_pio_write()', 'ne_interrupt()', 'rtl8139_resetrx()', 'setPlane()', 'fubyte()', 'setpal()', 'ne_poll()', 'virtio_set_status()', 'virtio_set_config_struct()', 'virtio_notify()', 'hal_PIC_interrupt_dispatcher()', 'debug_console_putc()', 'ne_probe0()', 'AcpiOsWritePort()', 'enable_multicast()', 'parallels_video_stop()', 'rtl8139_init()', 'arch_debug_console_init()', 'SetMode()']\n",
      "--- __outb()\n",
      "['get_fb_seg()', 'read_vga_register()', 'parallels_video_start()', 'cirrus_dump_cursol_palette()', 'ne_ei()', 'ne_reset()', 'ne_probe()', 'sub_writeBusMstrStatus()', 'isa_write8()', 'int_handler()', 'write_vga_register()', 'sub_writeBusMstrCmd()', 'sregs()', 'cirrus_unlock()', 'rtl8139_stop()', 'pio_outbyte()', 'virtio_reset()', 'cirrus_load_cursol_palette()', 'eth_pio_read()', 'eth_pio_write()', 'ne_interrupt()', 'rtl8139_resetrx()', 'setPlane()', 'fubyte()', 'setpal()', 'ne_poll()', 'virtio_set_status()', 'virtio_set_config_struct()', 'virtio_notify()', 'hal_PIC_interrupt_dispatcher()', 'debug_console_putc()', 'ne_probe0()', 'AcpiOsWritePort()', 'enable_multicast()', 'parallels_video_stop()', 'rtl8139_init()', 'arch_debug_console_init()', 'SetMode()']\n",
      "--- __outlc()\n",
      "['write_bcr()', 'read_csr()', 'play()', 'do_eeprom_cmd()', 'parallels_video_start()', 'SVGA_ReadReg()', 'stop_adc()', 'virtio_set_q_physaddr()', 'setRecordSampleCount()', 'isa_write32()', 'rtl8139_int()', 'SVGA_WriteReg()', 'rtl8139_xmit()', 'rtl8139_txint()', 'setPlaybackSampleCount()', 'setRecordBuffer()', 'SVGA_FIFOCommitAll()', 'write_csr()', 'w_dpc_func()', 'setRecordFormat()', 'fubyte()', 'setPlayBuffer()', 'stop_dac()', 'set_sampling_rate()', 'virtio_set_features()', 'setSamplingRate()', 'AcpiOsWritePort()', 'es1370_interrupt()', 'pcnet32_start()', 'init_es1370()', 'set_up_xfer()', 'setPlaybackFormat()', 'record()']\n",
      "--- __outl()\n",
      "['write_bcr()', 'read_csr()', 'play()', 'do_eeprom_cmd()', 'parallels_video_start()', 'SVGA_ReadReg()', 'stop_adc()', 'virtio_set_q_physaddr()', 'setRecordSampleCount()', 'isa_write32()', 'rtl8139_int()', 'SVGA_WriteReg()', 'rtl8139_xmit()', 'rtl8139_txint()', 'setPlaybackSampleCount()', 'setRecordBuffer()', 'SVGA_FIFOCommitAll()', 'write_csr()', 'w_dpc_func()', 'setRecordFormat()', 'fubyte()', 'setPlayBuffer()', 'stop_dac()', 'set_sampling_rate()', 'virtio_set_features()', 'setSamplingRate()', 'AcpiOsWritePort()', 'es1370_interrupt()', 'pcnet32_start()', 'init_es1370()', 'set_up_xfer()', 'setPlaybackFormat()', 'record()']\n",
      "--- __inlc()\n",
      "['read_csr()', 'play()', 'parallels_video_start()', 'SVGA_ReadReg()', 'stop_adc()', 'check_es1370_sanity()', '_setCodec()', 'rtl8139_int()', 'rtl8139_xmit()', 'check_piix4_pm_sanity()', 'rtl8139_dumptxstate()', 'AcpiOsReadPort()', 'rtl8139_txint()', 'w_dpc_func()', 'setRecordFormat()', 'fubyte()', 'stop_dac()', 'set_sampling_rate()', 'rtl8139_rxint()', 'setSamplingRate()', 'es1370_interrupt()', 'pcnet32_start()', 'virtio_get_features()', 'isa_read32()', 'setPlaybackFormat()', 'record()']\n",
      "--- __inl()\n",
      "['read_csr()', 'play()', 'parallels_video_start()', 'SVGA_ReadReg()', 'stop_adc()', 'check_es1370_sanity()', '_setCodec()', 'rtl8139_int()', 'rtl8139_xmit()', 'check_piix4_pm_sanity()', 'rtl8139_dumptxstate()', 'AcpiOsReadPort()', 'rtl8139_txint()', 'w_dpc_func()', 'setRecordFormat()', 'fubyte()', 'stop_dac()', 'set_sampling_rate()', 'rtl8139_rxint()', 'setSamplingRate()', 'es1370_interrupt()', 'pcnet32_start()', 'virtio_get_features()', 'isa_read32()', 'setPlaybackFormat()', 'record()']\n",
      "--- __outwc()\n",
      "['_setCodec()', 'eth_pio_write()', 'vbe_read()', 'SetMode()', 'rtl8139_resetrx()', 'ia32_intel_poweroff()', 'vbe_write()', 'AcpiOsWritePort()', 'rtl8139_rx()', 'virtio_get_q_size()', 'pio_outword()', 'fubyte()', 'parallels_video_start()', 'do_eeprom_cmd()', 'rtl8139_stop()', 'virtio_set_q_physaddr()', 'rtl8139_int()', 'isa_write16()']\n",
      "--- __outw()\n",
      "['_setCodec()', 'eth_pio_write()', 'vbe_read()', 'SetMode()', 'rtl8139_resetrx()', 'ia32_intel_poweroff()', 'vbe_write()', 'AcpiOsWritePort()', 'rtl8139_rx()', 'virtio_get_q_size()', 'pio_outword()', 'fubyte()', 'parallels_video_start()', 'do_eeprom_cmd()', 'rtl8139_stop()', 'virtio_set_q_physaddr()', 'rtl8139_int()', 'isa_write16()']\n",
      "--- __inb()\n",
      "['vio_irq_handler()', 'get_fb_seg()', 'read_vga_register()', 'pcnet32_init()', 'virtio_get_config_struct()', 'cirrus_dump_cursol_palette()', 'ne_probe()', 'sub_readBusMstrStatus()', 'sub_readBusMstrCmd()', 'int_handler()', 'isa_read8()', 'write_vga_register()', 'rtl8139_rx()', 'virtio_get_status()', 'cirrus_unlock()', 'AcpiOsReadPort()', 'eth_pio_read()', 'ne_interrupt()', 'fubyte()', 'ne_poll()', 'pio_inbyte()', 'debug_console_putc()', 'ne_probe0()', 'rtl8139_rxint()', 'enable_multicast()', 'rtl8139_init()', 'SetMode()']\n",
      "--- __inw()\n",
      "['isa_read16()', 'eth_pio_read()', 'rtl8139_rxint()', 'AcpiOsReadPort()', 'vbe_read()', 'SetMode()', 'pio_inword()', 'ia32_intel_poweroff()', 'rtl8139_rx()', 'virtio_get_q_size()', 'do_eeprom_cmd()', 'fubyte()', 'rtl8139_int()']\n",
      "--- __inbc()\n",
      "['vio_irq_handler()', 'get_fb_seg()', 'read_vga_register()', 'pcnet32_init()', 'virtio_get_config_struct()', 'cirrus_dump_cursol_palette()', 'ne_probe()', 'sub_readBusMstrStatus()', 'sub_readBusMstrCmd()', 'int_handler()', 'isa_read8()', 'write_vga_register()', 'rtl8139_rx()', 'virtio_get_status()', 'cirrus_unlock()', 'AcpiOsReadPort()', 'eth_pio_read()', 'ne_interrupt()', 'fubyte()', 'ne_poll()', 'pio_inbyte()', 'debug_console_putc()', 'ne_probe0()', 'rtl8139_rxint()', 'enable_multicast()', 'rtl8139_init()', 'SetMode()']\n",
      "--- __inwc()\n",
      "['isa_read16()', 'eth_pio_read()', 'rtl8139_rxint()', 'AcpiOsReadPort()', 'vbe_read()', 'SetMode()', 'pio_inword()', 'ia32_intel_poweroff()', 'rtl8139_rx()', 'virtio_get_q_size()', 'do_eeprom_cmd()', 'fubyte()', 'rtl8139_int()']\n",
      "--- insb()\n",
      "['pio_rep_inbyte()']\n",
      "--- insw()\n",
      "['pio_rep_inword()']\n",
      "--- outsb()\n",
      "['pio_rep_outbyte()']\n",
      "--- outsw()\n",
      "['pio_rep_outword()']\n"
     ]
    }
   ],
   "source": [
    "# Attention to pio.h and proc_reg.h\n",
    "# Probably, both can be omitted. But let's check how pio.h is used\n",
    "\n",
    "for f_name, node in kernel_index.store.items():\n",
    "    if node.location and node.location.split(\":\")[0].endswith(\"pio.h\"):\n",
    "        print(\"--- \" + f_name)\n",
    "        print(kernel_index.get_callers(f_name))"
   ]
  },
  {
   "cell_type": "code",
   "execution_count": 65,
   "id": "frank-saying",
   "metadata": {},
   "outputs": [
    {
     "name": "stdout",
     "output_type": "stream",
     "text": [
      "--- __outwc()\n",
      "{0: {'__outwc()'}, 1: {'ia32_intel_poweroff()'}, 2: {'phantom_shutdown()'}}\n",
      "--- __outw()\n",
      "{2: {'phantom_shutdown()'}, 1: {'ia32_intel_poweroff()'}, 0: {'__outw()'}}\n",
      "--- __inw()\n",
      "{0: {'__inw()'}, 2: {'phantom_shutdown()'}, 1: {'ia32_intel_poweroff()'}}\n",
      "--- __inwc()\n",
      "{2: {'phantom_shutdown()'}, 1: {'ia32_intel_poweroff()'}, 0: {'__inwc()'}}\n"
     ]
    }
   ],
   "source": [
    "# Ok, let's check how it is used inside the subgraph\n",
    "\n",
    "for f_name, node in kernel_index.store.items():\n",
    "    if f_name in kernel_main_subgraph_nodes and node.location and node.location.split(\":\")[0].endswith(\"pio.h\"):\n",
    "        print(\"--- \" + f_name)\n",
    "        print(get_neighbours(kernel_main_subgraph_r, f_name, 2))\n"
   ]
  },
  {
   "cell_type": "code",
   "execution_count": 71,
   "id": "demographic-lingerie",
   "metadata": {},
   "outputs": [
    {
     "data": {
      "text/plain": [
       "['oldtree/kernel/phantom/boot_cmd_line.c',\n",
       " 'oldtree/kernel/phantom/disk_pool.c',\n",
       " 'oldtree/kernel/phantom/dpc.c',\n",
       " 'oldtree/kernel/phantom/driver_pci_intel_etc.c',\n",
       " 'oldtree/kernel/phantom/fs_map.c',\n",
       " 'oldtree/kernel/phantom/heap.c',\n",
       " 'oldtree/kernel/phantom/ide_io.c',\n",
       " 'oldtree/kernel/phantom/intrdisp.c',\n",
       " 'oldtree/kernel/phantom/net_timer.c',\n",
       " 'oldtree/kernel/phantom/test_switch.c',\n",
       " 'oldtree/kernel/phantom/time.c',\n",
       " 'oldtree/kernel/phantom/timedcall.c']"
      ]
     },
     "execution_count": 71,
     "metadata": {},
     "output_type": "execute_result"
    }
   ],
   "source": [
    "# Ok, nothing scary :)\n",
    "# Let's filter them and then copy to isomem folder\n",
    "\n",
    "sorted([x[len(\"/home/anton/Sandbox/PhantomOS/test/phantomuserland/\"):] for x in set(kernel_main_subgraph_files) - set(vm_files) if not \"ia32\" in x and not \"include\" in x])"
   ]
  },
  {
   "cell_type": "code",
   "execution_count": 77,
   "id": "charming-worse",
   "metadata": {},
   "outputs": [
    {
     "name": "stdout",
     "output_type": "stream",
     "text": [
      "--- hal_time_init()\n",
      "--- arch_get_tick_rate()\n",
      "--- arch_get_time_delta()\n"
     ]
    }
   ],
   "source": [
    "# Probably, we can use everything except ide_io since it will be replaced\n",
    "# Also, time.c looks not really good. Let's check what is used\n",
    "\n",
    "# Ok, let's check how it is used inside the subgraph\n",
    "\n",
    "for f_name, node in kernel_index.store.items():\n",
    "    if f_name in kernel_main_subgraph_nodes and node.location and node.location.split(\":\")[0].endswith(\"time.c\"):\n",
    "        print(\"--- \" + f_name)\n",
    "#         print(get_neighbours(kernel_main_subgraph_r, f_name, 2))"
   ]
  }
 ],
 "metadata": {
  "kernelspec": {
   "display_name": "Python 3",
   "language": "python",
   "name": "python3"
  },
  "language_info": {
   "codemirror_mode": {
    "name": "ipython",
    "version": 3
   },
   "file_extension": ".py",
   "mimetype": "text/x-python",
   "name": "python",
   "nbconvert_exporter": "python",
   "pygments_lexer": "ipython3",
   "version": "3.8.5"
  }
 },
 "nbformat": 4,
 "nbformat_minor": 5
}
